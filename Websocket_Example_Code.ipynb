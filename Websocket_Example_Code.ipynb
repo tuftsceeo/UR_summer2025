{
 "cells": [
  {
   "cell_type": "markdown",
   "id": "9e0d797c-8ff3-449e-b750-a152b22a99c7",
   "metadata": {},
   "source": [
    "# Websocket Example Code"
   ]
  },
  {
   "cell_type": "markdown",
   "id": "60a5d16e-82cb-4714-9afe-a689f8f49ad7",
   "metadata": {},
   "source": [
    "Examples of the functions included in websocket_pubsub.py for publishing to and reading from channels. Websocket_Startup needs to be run before running anything in this file."
   ]
  },
  {
   "cell_type": "markdown",
   "id": "cb4b7359-e711-4b92-930c-4d5460d066d9",
   "metadata": {},
   "source": [
    "### Initialization"
   ]
  },
  {
   "cell_type": "markdown",
   "id": "4d525986-da75-44a2-8da4-10ad1914d745",
   "metadata": {},
   "source": [
    "Import the functions from the library, create an instance of the Channel_Communication class which includes a publisher and subscriber to the websocket nodes"
   ]
  },
  {
   "cell_type": "code",
   "execution_count": null,
   "id": "e736a32e-a07b-4646-b1fb-f22056cb264e",
   "metadata": {},
   "outputs": [],
   "source": [
    "from websocket import *\n",
    "\n",
    "channel = Channel_Communication()"
   ]
  },
  {
   "cell_type": "markdown",
   "id": "f9b763c1-55d8-4994-b816-d51da0772872",
   "metadata": {},
   "source": [
    "### read_data()"
   ]
  },
  {
   "cell_type": "markdown",
   "id": "8f83216f-ae59-48eb-9f83-00ae43589edf",
   "metadata": {},
   "source": [
    "Read data from the ROS node. The node has a queue size of 10. If there are no messages to be read, function returns None. Otherwise the message comes back as a string which can be converted to a dicitonary."
   ]
  },
  {
   "cell_type": "code",
   "execution_count": null,
   "id": "b730ac9f-dfdd-4b97-9840-1c06658d7809",
   "metadata": {},
   "outputs": [],
   "source": [
    "data = channel.read_data()\n",
    "print(\"Raw data:\", data)\n",
    "\n",
    "if data != None:\n",
    "    data = json.loads(data)\n",
    "    print(\"Topic: \", data['topic'],\"\\nValue: \", data['value'], sep=\"\")"
   ]
  },
  {
   "cell_type": "markdown",
   "id": "c472f38a-4a34-47e3-a971-64fa134b0135",
   "metadata": {},
   "source": [
    "### send_data(topic, value)"
   ]
  },
  {
   "cell_type": "markdown",
   "id": "82b4544b-2068-46f9-97b9-93d7abb8da52",
   "metadata": {},
   "source": [
    "Sends data to the ROS node and then to channels."
   ]
  },
  {
   "cell_type": "code",
   "execution_count": null,
   "id": "37881edc-d89d-43f1-b136-cefc42d65ddc",
   "metadata": {},
   "outputs": [],
   "source": [
    "topic = \"/URarm/example_topic\"\n",
    "value = \"message\"\n",
    "channel.send_data(topic, value)"
   ]
  },
  {
   "cell_type": "markdown",
   "id": "ea02ef0f-5e95-489a-a811-93b31b9e1137",
   "metadata": {},
   "source": [
    "### clear_queue()"
   ]
  },
  {
   "cell_type": "markdown",
   "id": "9c95bd8e-4c47-48c7-97bb-ab20f65fde55",
   "metadata": {},
   "source": [
    "Reads from the node 10 times to clear the current queue"
   ]
  },
  {
   "cell_type": "code",
   "execution_count": null,
   "id": "22aafebc-cf9a-4b73-869b-caab9f525483",
   "metadata": {},
   "outputs": [],
   "source": [
    "channel.clear_queue()"
   ]
  }
 ],
 "metadata": {
  "kernelspec": {
   "display_name": "Python [conda env:base] *",
   "language": "python",
   "name": "conda-base-py"
  },
  "language_info": {
   "codemirror_mode": {
    "name": "ipython",
    "version": 3
   },
   "file_extension": ".py",
   "mimetype": "text/x-python",
   "name": "python",
   "nbconvert_exporter": "python",
   "pygments_lexer": "ipython3",
   "version": "3.10.14"
  }
 },
 "nbformat": 4,
 "nbformat_minor": 5
}
