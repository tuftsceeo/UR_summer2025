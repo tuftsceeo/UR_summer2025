{
 "cells": [
  {
   "cell_type": "markdown",
   "id": "d2cd5f49-3e7a-4dee-821b-a28e04416804",
   "metadata": {},
   "source": [
    "# Websocket Startup"
   ]
  },
  {
   "cell_type": "markdown",
   "id": "f9d9bec5-a4b0-46bc-8170-fa6304336d79",
   "metadata": {},
   "source": [
    "Run the start_websocket() function to start the websocket in Jupyter notebook"
   ]
  },
  {
   "cell_type": "code",
   "execution_count": null,
   "id": "939bc62d-9681-4f92-822d-bd1036f5a2a9",
   "metadata": {},
   "outputs": [],
   "source": [
    "from websocket import *\n",
    "start_websocket()"
   ]
  }
 ],
 "metadata": {
  "kernelspec": {
   "display_name": "Python [conda env:base] *",
   "language": "python",
   "name": "conda-base-py"
  },
  "language_info": {
   "codemirror_mode": {
    "name": "ipython",
    "version": 3
   },
   "file_extension": ".py",
   "mimetype": "text/x-python",
   "name": "python",
   "nbconvert_exporter": "python",
   "pygments_lexer": "ipython3",
   "version": "3.10.14"
  }
 },
 "nbformat": 4,
 "nbformat_minor": 5
}
