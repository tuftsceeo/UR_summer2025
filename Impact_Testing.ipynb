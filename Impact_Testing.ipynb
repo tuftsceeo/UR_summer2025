{
 "cells": [
  {
   "cell_type": "markdown",
   "id": "444cc140-9f64-4744-8f79-98ab174737b7",
   "metadata": {},
   "source": [
    "# Impact Testing"
   ]
  },
  {
   "cell_type": "markdown",
   "id": "a6368dec-7a86-42b3-8bd8-9b95b49a8349",
   "metadata": {},
   "source": [
    "Run the code below to start a full impact test. Note that the websocket startup also needs to be running in a different tab"
   ]
  },
  {
   "cell_type": "code",
   "execution_count": 1,
   "id": "a3574569-7dd7-47a1-ae13-2d0a009cff0d",
   "metadata": {},
   "outputs": [
    {
     "ename": "ModuleNotFoundError",
     "evalue": "No module named 'impact_library'",
     "output_type": "error",
     "traceback": [
      "\u001b[0;31m---------------------------------------------------------------------------\u001b[0m",
      "\u001b[0;31mModuleNotFoundError\u001b[0m                       Traceback (most recent call last)",
      "Cell \u001b[0;32mIn[1], line 1\u001b[0m\n\u001b[0;32m----> 1\u001b[0m \u001b[38;5;28;01mfrom\u001b[39;00m \u001b[38;5;21;01mimpact_library\u001b[39;00m \u001b[38;5;28;01mimport\u001b[39;00m ImpactTesting\n\u001b[1;32m      3\u001b[0m impact \u001b[38;5;241m=\u001b[39m ImpactTesting()\n\u001b[1;32m      4\u001b[0m \u001b[38;5;28mprint\u001b[39m(\u001b[38;5;124m\"\u001b[39m\u001b[38;5;124mdone initializing\u001b[39m\u001b[38;5;124m\"\u001b[39m)\n",
      "\u001b[0;31mModuleNotFoundError\u001b[0m: No module named 'impact_library'"
     ]
    }
   ],
   "source": [
    "from .impact_library import ImpactTesting\n",
    "\n",
    "impact = ImpactTesting()\n",
    "print(\"done initializing\")\n",
    "\n",
    "#impact.flat_plate_impact_test()"
   ]
  },
  {
   "cell_type": "code",
   "execution_count": null,
   "id": "d9aaea13-1f8f-4c24-a506-957e0fa91fe9",
   "metadata": {},
   "outputs": [],
   "source": []
  }
 ],
 "metadata": {
  "kernelspec": {
   "display_name": "Python [conda env:base] *",
   "language": "python",
   "name": "conda-base-py"
  },
  "language_info": {
   "codemirror_mode": {
    "name": "ipython",
    "version": 3
   },
   "file_extension": ".py",
   "mimetype": "text/x-python",
   "name": "python",
   "nbconvert_exporter": "python",
   "pygments_lexer": "ipython3",
   "version": "3.10.14"
  }
 },
 "nbformat": 4,
 "nbformat_minor": 5
}
