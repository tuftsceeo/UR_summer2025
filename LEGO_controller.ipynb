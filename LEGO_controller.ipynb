{
 "cells": [
  {
   "cell_type": "markdown",
   "id": "e1cce42b-2b02-492e-9c4a-965f2d09154f",
   "metadata": {},
   "source": [
    "# LEGO Science Kit Controller"
   ]
  },
  {
   "cell_type": "markdown",
   "id": "65a20bbd-9a19-4889-a2a4-160d77f25b03",
   "metadata": {},
   "source": [
    "Run this code to send and recieve messages over channels."
   ]
  },
  {
   "cell_type": "markdown",
   "id": "1e836eb0-b827-4c15-9530-6eae79739e64",
   "metadata": {},
   "source": [
    "## LEGO Control"
   ]
  },
  {
   "cell_type": "markdown",
   "id": "355728cc-7616-4f82-88cb-b2375b3203ea",
   "metadata": {},
   "source": [
    "Library initializations"
   ]
  },
  {
   "cell_type": "code",
   "execution_count": 1,
   "id": "4be2fdf4-964d-45ef-813e-481162a68f5a",
   "metadata": {},
   "outputs": [],
   "source": [
    "from myur import MyUR3e\n",
    "from websocket import *\n",
    "\n",
    "robot = MyUR3e()\n",
    "channel = Channel_Communication()"
   ]
  },
  {
   "cell_type": "markdown",
   "id": "f91945f5-a1ca-485d-b734-24d0baeeb79a",
   "metadata": {},
   "source": [
    "Main loop, reads from the websocket ROS node on the /URarm channel"
   ]
  },
  {
   "cell_type": "code",
   "execution_count": null,
   "id": "4e59f875-4aff-4d6b-8acc-c728748e8d8a",
   "metadata": {},
   "outputs": [],
   "source": [
    "for i in range(10):\n",
    "    channel.read_data()\n",
    "    \n",
    "while True:\n",
    "    data = channel.read_data()\n",
    "    if data != None:\n",
    "        data = json.loads(data)\n",
    "        print(data)\n",
    "        if data['topic'] == '/URarm' and data['value'] == 'up':\n",
    "            robot.move_joints_r([0,0,0,-4,0,0], time = 0.5)\n",
    "        elif data['topic'] == '/URarm' and data['value'] == 'down':\n",
    "            robot.move_joints_r([0,0,0,4,0,0], time = 0.5)\n",
    "        if data['topic'] == '/URarm' and data['value'] == 0:\n",
    "           robot.move_gripper(0)\n",
    "        elif data['topic'] == '/URarm' and data['value'] == 100:\n",
    "            robot.move_gripper(100)\n",
    "        elif data['topic'] == '/URarm' and data['value'] == 50:\n",
    "            robot.move_gripper(50)\n",
    "        if data['topic'] == '/URarm' and data['value'] == '+z':\n",
    "            robot.move_global_r([0,0,0.01,0,0,0], time = 1)\n",
    "        elif data['topic'] == '/URarm' and data['value'] == '-z':\n",
    "            robot.move_global_r([0,0,-0.01,0,0,0], time = 1)\n",
    "        if data['topic'] == '/URarm' and data['value'] == '+y':\n",
    "            robot.move_global_r([0,0.01,0,0,0,0], time = 1)\n",
    "        elif data['topic'] == '/URarm' and data['value'] == '-y':\n",
    "            robot.move_global_r([0,-0.01,0,0,0,0], time = 1)\n",
    "    time.sleep(0.01)"
   ]
  }
 ],
 "metadata": {
  "kernelspec": {
   "display_name": "Python [conda env:base] *",
   "language": "python",
   "name": "conda-base-py"
  },
  "language_info": {
   "codemirror_mode": {
    "name": "ipython",
    "version": 3
   },
   "file_extension": ".py",
   "mimetype": "text/x-python",
   "name": "python",
   "nbconvert_exporter": "python",
   "pygments_lexer": "ipython3",
   "version": "3.10.14"
  }
 },
 "nbformat": 4,
 "nbformat_minor": 5
}
