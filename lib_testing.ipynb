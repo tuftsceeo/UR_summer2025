{
 "cells": [
  {
   "cell_type": "markdown",
   "id": "a89136a7-755f-4762-8e30-e383600ae173",
   "metadata": {},
   "source": [
    "# Library Testing! "
   ]
  },
  {
   "cell_type": "markdown",
   "id": "303b14e0-5a80-4ab8-978f-94f24c6b990d",
   "metadata": {},
   "source": [
    "Start by testing interpolation against existing UR3 library"
   ]
  },
  {
   "cell_type": "markdown",
   "id": "81f307c7-4359-49ff-a34b-fc2b5d9bb6e3",
   "metadata": {},
   "source": [
    "1. Import + initialize Liam and Aengus libray "
   ]
  },
  {
   "cell_type": "code",
   "execution_count": null,
   "id": "901d1f67-0c45-4aa5-9338-621995805971",
   "metadata": {},
   "outputs": [],
   "source": [
    "from UR_summer2025 import MyUR3e, Trajectory \n",
    "\n",
    "# Create an instance of the MyUR3e class\n",
    "robot = MyUR3e()\n",
    "traj = Trajectory()\n",
    "print(\"done\")"
   ]
  },
  {
   "cell_type": "code",
   "execution_count": null,
   "id": "cf8a8183-4846-42f1-a116-21e25361925d",
   "metadata": {},
   "outputs": [],
   "source": [
    "!pwd"
   ]
  },
  {
   "cell_type": "code",
   "execution_count": null,
   "id": "eb7f22d9-eaff-42f3-a2cc-26522814ce1c",
   "metadata": {},
   "outputs": [],
   "source": [
    "!ls"
   ]
  },
  {
   "cell_type": "code",
   "execution_count": null,
   "id": "113d92e6-8390-4424-ad58-c00a19954833",
   "metadata": {},
   "outputs": [],
   "source": [
    "!ros2 topic list"
   ]
  },
  {
   "cell_type": "markdown",
   "id": "8d07ee47-08eb-4621-957d-8b0d61cbdee7",
   "metadata": {},
   "source": [
    "2. Import Hannah and Leia library + create a test path"
   ]
  },
  {
   "cell_type": "code",
   "execution_count": null,
   "id": "9dd9b2bc-cb8a-468c-9f21-7d8c2e20530a",
   "metadata": {},
   "outputs": [],
   "source": [
    "import time\n",
    "import numpy as np \n",
    "\n",
    "# Test path\n",
    "traj.trajectory = [[0,0,0,0,0,0],\n",
    "                    [.03,.04,.01,30,0,0],\n",
    "                    [.06,.08,.02,90,20,0],\n",
    "                    [.06,.08,.02,90,20,20]]\n",
    "#testing no args\n",
    "traj.linear_interp() # should default interpolate traj.trajectory w/ step size .01\n",
    "print(traj.trajectory)\n",
    "\n",
    "print(\"done\")"
   ]
  },
  {
   "cell_type": "markdown",
   "id": "af13e14a-c2ee-411c-9ccb-f9f9339b247e",
   "metadata": {},
   "source": [
    "You can check the nodes by running:"
   ]
  },
  {
   "cell_type": "code",
   "execution_count": null,
   "id": "4c824a24-76aa-4adf-95d1-debb40e37e1f",
   "metadata": {},
   "outputs": [],
   "source": [
    "!ros2 topic list"
   ]
  },
  {
   "cell_type": "markdown",
   "id": "aee3862a-c5c8-46d2-b8ea-ce0fb90c51bd",
   "metadata": {},
   "source": [
    "This should be a working path that throws no errors and prints results. "
   ]
  },
  {
   "cell_type": "code",
   "execution_count": null,
   "id": "9cbe5ed0-39f2-43fb-ab86-ef7786bbeb96",
   "metadata": {},
   "outputs": [],
   "source": [
    "traj.trajectory = [[0,0,0,0,0,0],\n",
    "                    [3,4,1,30,0,0],\n",
    "                    [6,8,2,90,20,0],\n",
    "                    [6,8,2,90,20,20]]\n",
    "interpolated_result = traj.linear_interp(step_size = 1, debugging=True, aligned=False)"
   ]
  },
  {
   "cell_type": "markdown",
   "id": "2d5c4b42-6501-4de4-b027-9da4dc3dea00",
   "metadata": {},
   "source": [
    "This path should throw no errors but no interpolation should occur (Original = Interpolated)"
   ]
  },
  {
   "cell_type": "code",
   "execution_count": null,
   "id": "10616d83-46fd-4986-a1e9-3e6ce11234a7",
   "metadata": {},
   "outputs": [],
   "source": [
    "# nothing should happen here\n",
    "zeros_path = [[0,0,0,0,0,0],\n",
    "            [0,0,0,0,0,40],\n",
    "            [0,0,0,0,0,0]]\n",
    "traj.linear_interp(zeros_path, step_size=1, debugging=True, aligned=True)"
   ]
  },
  {
   "cell_type": "markdown",
   "id": "68bdb6ce-de92-4b4d-8b3e-15fdd2cf6ca3",
   "metadata": {},
   "source": [
    "All of the following should throw errors for invalid input. "
   ]
  },
  {
   "cell_type": "code",
   "execution_count": null,
   "id": "1c09691b-2ec0-4251-8fa5-2a1577d71240",
   "metadata": {},
   "outputs": [],
   "source": [
    "# Error Testing\n",
    "no_path = []\n",
    "path_too_short = [[0,0,0,0,0,0]]\n",
    "\n",
    "traj.linear_interp(no_path, step_size=1, debugging=True)\n",
    "traj.linear_interp(zeros_path, step_size=0, debugging=True)\n",
    "traj.linear_interp(path_too_short, step_size=1, debugging=True)"
   ]
  },
  {
   "cell_type": "markdown",
   "id": "11b13de3-e14c-45f7-b8b2-a68ad5ea8013",
   "metadata": {},
   "source": [
    "## Relative Trajectory testing: "
   ]
  },
  {
   "cell_type": "code",
   "execution_count": null,
   "id": "3e21277c-f9ef-43cc-81d9-ab224364266b",
   "metadata": {},
   "outputs": [],
   "source": [
    "# Testing relative trajectory\n",
    "relative_trajectory = np.array([\n",
    "    [0.0, 0.0, -0.01, 0.0, 0.0, 0.0],\n",
    "    [0.1, 0.0, 0.0, 0.0, 0.0, 90.0],\n",
    "])\n",
    "# relative_trajectory = linear_interp(relative_trajectory, debugging=True)\n",
    "# Move the end effector through the trajectory\n",
    "start = [0.2, 0.1, 0.4, 0.0, 0.0, 0.0]\n",
    "global_trajectory = traj.relative_to_global(relative_trajectory, start)\n",
    "\n",
    "print(f\"global: {global_trajectory}\")"
   ]
  },
  {
   "cell_type": "markdown",
   "id": "7a0450f1-722c-45f5-9438-e09c62bb5ebb",
   "metadata": {},
   "source": [
    "## Testing with the arm: "
   ]
  },
  {
   "cell_type": "code",
   "execution_count": null,
   "id": "a45485a0-c10f-4638-8cca-5ecd25aa3063",
   "metadata": {},
   "outputs": [],
   "source": [
    "# Move in a 10cm square using global relative commands\n",
    "relative_trajectory = [\n",
    "    [0.0, 0.0, -0.01, 0.0, 0.0, 0.0],\n",
    "    [0.1, 0.0, 0.0, 0.0, 0.0, 0.0],\n",
    "    [0.0, 0.0, 0.0, 0.0, 0.0, 90.0],\n",
    "    [0.0, 0.1, 0.0, 0.0, 0.0, 0.0],\n",
    "    [0.0, 0.0, 0.0, 0.0, 0.0, -90.0],\n",
    "    [-0.1, 0.0, 0.0, 0.0, 0.0, 0.0],\n",
    "    [0, 0.0, 0.0, 0.0, 0.0, 90.0],\n",
    "    [0.0, -0.1, 0.0, 0.0, 0.0, 0.0],\n",
    "    [0.0, 0.0, 0.0, 0.0, 0.0, -90.0]\n",
    "]\n",
    "start_pos = [0.2, 0.1, 0.4, 0.0, 0.0, 0.0]\n",
    "global_trajectory = traj.relative_to_global(relative_trajectory, start_pos)\n",
    "global_trajectory = traj.linear_interp(global_trajectory, debugging=False, aligned=False)\n",
    "# Move the end effector through the trajectory\n",
    "robot.move_global(start_pos)\n",
    "robot.move_global(global_trajectory, (len(global_trajectory)/2))\n",
    "print(\"done\")"
   ]
  },
  {
   "cell_type": "markdown",
   "id": "e1705bb2-474f-43f4-a308-52fadf29c5ac",
   "metadata": {},
   "source": [
    "## Drawing Circles"
   ]
  },
  {
   "cell_type": "code",
   "execution_count": null,
   "id": "d144c688-bb71-4e1d-977c-40d146a21354",
   "metadata": {},
   "outputs": [],
   "source": [
    "# center = [0.4, 0.2, 0.5, 0, 0, 0] # generated location\n",
    "center = [0.25, 0.1, 0.34, 0.0, 0.0, 0.0]\n",
    "robot.move_global(center)\n",
    "print(\"make sure center position seems viable.\")\n",
    "trajectory = traj.draw_circle(\n",
    "    center,\n",
    "    radius=0.1,\n",
    "    num_points=24,\n",
    "    degrees=True,\n",
    "    plane_rotation=[0, 0, 0],  # Tilt circle 45° around Y-axis\n",
    "    debugging=False,\n",
    "    aligned=True\n",
    ")\n",
    "robot.move_global(trajectory, len(trajectory)/2)\n",
    "print(\"done\")"
   ]
  },
  {
   "cell_type": "markdown",
   "id": "8984327d-cd4c-4246-8a60-a9f5c8d7c80f",
   "metadata": {},
   "source": [
    "## Zig Zag"
   ]
  },
  {
   "cell_type": "code",
   "execution_count": null,
   "id": "64be4136-243f-4827-bad1-afaea5ad7c83",
   "metadata": {},
   "outputs": [],
   "source": [
    "robot.read_global_pos()"
   ]
  },
  {
   "cell_type": "code",
   "execution_count": null,
   "id": "1894ba7b-d867-4cb4-9384-9d807f0b6a78",
   "metadata": {},
   "outputs": [],
   "source": [
    "zig_zag = [[.26, -0.02, 0, 0, 0, 0],\n",
    "           [.2, -0.01, 0, 0, 0, 0],\n",
    "           [.26, 0, 0, 0, 0, 0],\n",
    "           [.2, 0.01, 0, 0, 0, 0],\n",
    "           [.26, 0.02, 0, 0, 0, 0],\n",
    "           [.2, 0.03, 0, 0, 0, 0],\n",
    "           [.26, 0.04, 0, 0, 0, 0],\n",
    "           [.2, 0.03, 0, 0, 0, 0],\n",
    "           [.26, 0.02, 0, 0, 0, 0],\n",
    "           [.2, 0.01, 0, 0, 0, 0],\n",
    "           [.26, 0, 0, 0, 0, 0],\n",
    "           [.2, -0.01, 0, 0, 0, 0],\n",
    "           [.26, -0.02, 0, 0, 0, 0]]\n",
    "traj.trajectory = zig_zag\n",
    "traj.set_z(.25)\n",
    "start = [.28, -.02, .3, 0, 0, 0]\n",
    "robot.move_global(start)\n",
    "time.sleep(2)\n",
    "traj.linear_interp()\n",
    "robot.move_global(traj.trajectory, 15, wait=True)\n",
    "robot.move_global([.26, -0.02, .2, 0, 0, 0])\n",
    "print(\"done\")"
   ]
  },
  {
   "cell_type": "markdown",
   "id": "f682afe0-51d6-475b-9815-8aa8b9487662",
   "metadata": {},
   "source": [
    "## Clay Command testing"
   ]
  },
  {
   "cell_type": "code",
   "execution_count": null,
   "id": "ae50ed2e-eaba-4795-a151-bea222890abf",
   "metadata": {},
   "outputs": [],
   "source": [
    "from UR_summer2025 import ClaySculpt, ClayTrajectory\n",
    "import time\n",
    "clay = ClaySculpt()\n",
    "clay_traj = ClayTrajectory()\n",
    "print(\"done\")"
   ]
  },
  {
   "cell_type": "code",
   "execution_count": null,
   "id": "5ff5d2c8-1712-4d7f-a5f0-7cd2f21de4d4",
   "metadata": {},
   "outputs": [],
   "source": []
  },
  {
   "cell_type": "markdown",
   "id": "973f4b13-118e-4474-8481-35f1fa06a06e",
   "metadata": {},
   "source": [
    "#### testing inheritance:"
   ]
  },
  {
   "cell_type": "code",
   "execution_count": null,
   "id": "5da453a2-f8c5-4b24-bd8c-1b7f0da58ad3",
   "metadata": {},
   "outputs": [],
   "source": [
    "# clay.move_global([0.33, 0.05, 0.19, 0.0, 0, 0.0])\n",
    "# clay.move_gripper(95)\n",
    "# clay.move_gripper(83)\n",
    "clay.move_gripper(25, force=75)\n",
    "# 28 for wood tool, 75 for sheetmetal"
   ]
  },
  {
   "cell_type": "code",
   "execution_count": null,
   "id": "128b741e-6022-4e61-92e4-90e0fbc58c6c",
   "metadata": {},
   "outputs": [],
   "source": [
    "clay.move_global([0.4, 0.1, 0.3, 30.0, 0, -90.0])\n",
    "# start = [.3, -.03, .35, 0, 0, 0]\n",
    "# clay.move_global(start)\n",
    "# clay.move_global([0.33, 0.05, 0.3, 0.0, 0, 0.0])"
   ]
  },
  {
   "cell_type": "code",
   "execution_count": null,
   "id": "1218871d-e5a9-4293-bf05-2f932b0ce3bd",
   "metadata": {},
   "outputs": [],
   "source": [
    "# testing roll sequence\n",
    "clay_traj.roll_sequence([.225,0])  \n",
    "clay_traj.set_z(.20)\n",
    "start = [.3, -.03, .2, 0, 0, 0]\n",
    "clay.move_global(start)\n",
    "time.sleep(2)\n",
    "clay.move_global(clay_traj.trajectory, 15, wait=True)\n",
    "clay.move_global([.26, -0.02, .2, 0, 0, 0])\n",
    "print(\"done\")"
   ]
  },
  {
   "cell_type": "code",
   "execution_count": null,
   "id": "d6ba5f6f-ef00-4f1f-bd5f-df8889e880cf",
   "metadata": {},
   "outputs": [],
   "source": [
    "# testing relative trajectories \n",
    "print(clay_traj.trajectory)\n",
    "clay_traj.relative_to_global([[0, 0, -.02, 0, 0, 0]], [0.25, 0.09999, 0.3000, 0.1006, 0.1011, 0.09808])\n",
    "print(clay_traj.trajectory)\n",
    "\n",
    "## MUST include the double brackets"
   ]
  },
  {
   "cell_type": "code",
   "execution_count": null,
   "id": "78475510-e5c0-4576-bce5-0e71fcf79d8a",
   "metadata": {},
   "outputs": [],
   "source": [
    "# testing blend trajectory. \n",
    "# x coordinate cannot exceed .45 (no IK solution)\n",
    "clay.move_global([0.4, 0.1, 0.25, 30.0, 0, -90.0])\n",
    "clay_traj.blend_traj([.2, -.16], cycles=2, angle = -30, width=.005, diameter=.228)\n",
    "clay.move_global(clay_traj.trajectory, 5)\n",
    "clay_traj.blend_traj([.2, .07], cycles=2, angle = 30, width=.005, diameter=.228)\n",
    "clay.move_global(clay_traj.trajectory, 5)"
   ]
  },
  {
   "cell_type": "code",
   "execution_count": null,
   "id": "a5f22169-d567-4a55-9281-8ec537fcd8b2",
   "metadata": {},
   "outputs": [],
   "source": [
    "# sponge\n",
    "import numpy as np\n",
    "clay_traj.blend_traj([.2, 0], cycles=4, angle = 0, length = .2, width=.01, diameter=.195)\n",
    "offset = [.22, 0, 0, 0, 0, 0]\n",
    "print(clay_traj.trajectory[2])\n",
    "print(len(clay_traj.trajectory))\n",
    "R = clay_traj.euler_rotation_matrix(0, 0, 90)\n",
    "for i in range(len(clay_traj.trajectory)):\n",
    "    for j in range(6):\n",
    "        clay_traj.trajectory[i][j] = clay_traj.trajectory[i][j] - offset[j]\n",
    "    pos = clay_traj.trajectory[i][:3]\n",
    "    new_pos = R @ pos\n",
    "    new_pos[0] = new_pos[0] + .22\n",
    "    clay_traj.trajectory[i][:3] = new_pos\n",
    "print(clay_traj.trajectory[2])\n",
    "# clay.move_global(clay_traj.trajectory, 20)"
   ]
  },
  {
   "cell_type": "code",
   "execution_count": null,
   "id": "24143160-ed97-46b3-b7fd-5e60bb13150c",
   "metadata": {},
   "outputs": [],
   "source": [
    "# testing blend trajectory\n",
    "# max .45 x \n",
    "clay.move_global([0.4, 0.1, 0.235, 30.0, 0, -90.0])\n",
    "clay.blend(height=.228, length=.2, offset_1=-.16, offset_2=.07, pass_width=.0025)"
   ]
  },
  {
   "cell_type": "code",
   "execution_count": null,
   "id": "cdbb253b-7317-4fc8-983e-91f4e9398153",
   "metadata": {},
   "outputs": [],
   "source": [
    "# testing Z calibration\n",
    "print(clay.zero_force)\n",
    "clay.calibrate_z()\n",
    "print(clay.zero_force)"
   ]
  },
  {
   "cell_type": "code",
   "execution_count": null,
   "id": "bb64a998-3f57-46de-8be6-93034a2376b7",
   "metadata": {},
   "outputs": [],
   "source": [
    "# testing roll coil (w/ force detection)\n",
    "clay.move_global([0.33, 0.05, 0.35, 0.0, 0, 0.0])\n",
    "# time.sleep(5) \n",
    "clay.move_global([0.33, 0.05, 0.22, 0.0, 0, 0.0])\n",
    "clay.roll_coil(.20, step=.0015, sweep=False, force_based=True, force_threshold = 15, z_test = False)\n",
    "print(clay.force)\n",
    "print(clay.height)"
   ]
  },
  {
   "cell_type": "code",
   "execution_count": null,
   "id": "207a79db-dc31-4e9f-b37c-ca8330187f26",
   "metadata": {},
   "outputs": [],
   "source": [
    "clay.read_global_pos()"
   ]
  }
 ],
 "metadata": {
  "kernelspec": {
   "display_name": "Python [conda env:base] *",
   "language": "python",
   "name": "conda-base-py"
  },
  "language_info": {
   "codemirror_mode": {
    "name": "ipython",
    "version": 3
   },
   "file_extension": ".py",
   "mimetype": "text/x-python",
   "name": "python",
   "nbconvert_exporter": "python",
   "pygments_lexer": "ipython3",
   "version": "3.10.14"
  }
 },
 "nbformat": 4,
 "nbformat_minor": 5
}
