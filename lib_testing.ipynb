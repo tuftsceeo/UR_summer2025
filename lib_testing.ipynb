{
 "cells": [
  {
   "cell_type": "markdown",
   "id": "a89136a7-755f-4762-8e30-e383600ae173",
   "metadata": {},
   "source": [
    "# Library Testing! "
   ]
  },
  {
   "cell_type": "markdown",
   "id": "303b14e0-5a80-4ab8-978f-94f24c6b990d",
   "metadata": {},
   "source": [
    "Start by testing interpolation against existing UR3 library"
   ]
  },
  {
   "cell_type": "markdown",
   "id": "81f307c7-4359-49ff-a34b-fc2b5d9bb6e3",
   "metadata": {},
   "source": [
    "1. Import + initialize Liam and Aengus libray "
   ]
  },
  {
   "cell_type": "code",
   "execution_count": 1,
   "id": "901d1f67-0c45-4aa5-9338-621995805971",
   "metadata": {},
   "outputs": [
    {
     "name": "stdout",
     "output_type": "stream",
     "text": [
      "done\n"
     ]
    }
   ],
   "source": [
    "from myur import MyUR3e\n",
    "\n",
    "# Create an instance of the MyUR3e class\n",
    "robot = MyUR3e()\n",
    "print(\"done\")"
   ]
  },
  {
   "cell_type": "markdown",
   "id": "8d07ee47-08eb-4621-957d-8b0d61cbdee7",
   "metadata": {},
   "source": [
    "2. Import Hannah and Leia library + create a test path"
   ]
  },
  {
   "cell_type": "code",
   "execution_count": 3,
   "id": "9dd9b2bc-cb8a-468c-9f21-7d8c2e20530a",
   "metadata": {},
   "outputs": [
    {
     "name": "stdout",
     "output_type": "stream",
     "text": [
      "done\n"
     ]
    }
   ],
   "source": [
    "import UR_lib\n",
    "import time\n",
    "import numpy as np\n",
    "\n",
    "# Test path\n",
    "coordinates_path = [[0,0,0,0,0,0],\n",
    "                    [3,4,1,30,0,0],\n",
    "                    [6,8,2,90,20,0],\n",
    "                    [6,8,2,90,20,20]]\n",
    "print(\"done\")"
   ]
  },
  {
   "cell_type": "markdown",
   "id": "af13e14a-c2ee-411c-9ccb-f9f9339b247e",
   "metadata": {},
   "source": [
    "You can check the nodes by running:"
   ]
  },
  {
   "cell_type": "code",
   "execution_count": 4,
   "id": "4c824a24-76aa-4adf-95d1-debb40e37e1f",
   "metadata": {},
   "outputs": [
    {
     "name": "stdout",
     "output_type": "stream",
     "text": [
      "WARNING: Be aware that are nodes in the graph that share an exact name, this can have unintended side effects.\n",
      "/GripperNode\n",
      "/controller_manager\n",
      "/controller_stopper\n",
      "/dashboard_client\n",
      "/force_torque_sensor_broadcaster\n",
      "/forward_position_controller\n",
      "/gripper_client\n",
      "/gripper_client\n",
      "/io_and_status_controller\n",
      "/joint_state_broadcaster\n",
      "/joint_state_subscriber\n",
      "/joint_state_subscriber\n",
      "/remote_control_client\n",
      "/remote_control_client\n",
      "/robot_state_publisher\n",
      "/scaled_joint_trajectory_controller\n",
      "/speed_scaling_state_broadcaster\n",
      "/ur_configuration_controller\n",
      "/ur_dashboard_client\n",
      "/ur_dashboard_client\n",
      "/urscript_interface\n",
      "/wrench_subscriber\n",
      "/wrench_subscriber\n"
     ]
    }
   ],
   "source": [
    "!ros2 node list"
   ]
  },
  {
   "cell_type": "markdown",
   "id": "aee3862a-c5c8-46d2-b8ea-ce0fb90c51bd",
   "metadata": {},
   "source": [
    "This should be a working path that throws no errors and prints results. "
   ]
  },
  {
   "cell_type": "code",
   "execution_count": 8,
   "id": "9cbe5ed0-39f2-43fb-ab86-ef7786bbeb96",
   "metadata": {},
   "outputs": [
    {
     "name": "stdout",
     "output_type": "stream",
     "text": [
      "\n",
      "--- Original Coordinates ---\n",
      "[0, 0, 0, 0, 0, 0]\n",
      "[3, 4, 1, 30, 0, 0]\n",
      "[6, 8, 2, 90, 20, 0]\n",
      "[6, 8, 2, 90, 20, 20]\n",
      "\n",
      "--- Interpolated Coordinates ---\n",
      "Point 0: [0, 0, 0, 0, 0, 0]\n",
      "Point 1: [0.6000000000000001, 0.8, 0.2, 6.0, 0.0, 0.0]\n",
      "Point 2: [1.2000000000000002, 1.6, 0.4, 12.0, 0.0, 0.0]\n",
      "Point 3: [1.7999999999999998, 2.4, 0.6, 18.0, 0.0, 0.0]\n",
      "Point 4: [2.4000000000000004, 3.2, 0.8, 24.0, 0.0, 0.0]\n",
      "Point 5: [3.0, 4.0, 1.0, 30.0, 0.0, 0.0]\n",
      "Point 6: [3.6, 4.8, 1.2, 42.0, 4.0, 0.0]\n",
      "Point 7: [4.2, 5.6, 1.4, 54.0, 8.0, 0.0]\n",
      "Point 8: [4.8, 6.4, 1.6, 66.0, 12.0, 0.0]\n",
      "Point 9: [5.4, 7.2, 1.8, 78.0, 16.0, 0.0]\n",
      "Point 10: [6.0, 8.0, 2.0, 90.0, 20.0, 0.0]\n",
      "Point 11: [6.0, 8.0, 2.0, 90.0, 20.0, 20.0]\n",
      "Total interpolated points: 12\n"
     ]
    }
   ],
   "source": [
    "interpolated_result = UR_lib.linear_interp(coordinates_path, step_size = 1, debugging=True, aligned=False)"
   ]
  },
  {
   "cell_type": "markdown",
   "id": "2d5c4b42-6501-4de4-b027-9da4dc3dea00",
   "metadata": {},
   "source": [
    "This path should throw no errors but no interpolation should occur (Original = Interpolated)"
   ]
  },
  {
   "cell_type": "code",
   "execution_count": 4,
   "id": "10616d83-46fd-4986-a1e9-3e6ce11234a7",
   "metadata": {},
   "outputs": [
    {
     "name": "stdout",
     "output_type": "stream",
     "text": [
      "\n",
      "--- Original Coordinates ---\n",
      "[0, 0, 0, 0, 0, 0]\n",
      "[0, 0, 0, 0, 0, 40]\n",
      "[0, 0, 0, 0, 0, 0]\n",
      "\n",
      "--- Interpolated Coordinates ---\n",
      "Point 0: [0, 0, 0, 0, 0, 180.0]\n",
      "Point 1: [0.0, 0.0, 0.0, 0.0, 0.0, 180.0]\n",
      "Point 2: [0.0, 0.0, 0.0, 0.0, 0.0, 0.0]\n",
      "Total interpolated points: 3\n"
     ]
    },
    {
     "data": {
      "text/plain": [
       "[[0, 0, 0, 0, 0, 180.0],\n",
       " [0.0, 0.0, 0.0, 0.0, 0.0, 180.0],\n",
       " [0.0, 0.0, 0.0, 0.0, 0.0, 0.0]]"
      ]
     },
     "execution_count": 4,
     "metadata": {},
     "output_type": "execute_result"
    }
   ],
   "source": [
    "# nothing should happen here\n",
    "zeros_path = [[0,0,0,0,0,0],\n",
    "            [0,0,0,0,0,40],\n",
    "            [0,0,0,0,0,0]]\n",
    "UR_lib.linear_interp(zeros_path, step_size=1, debugging=True, aligned=True)"
   ]
  },
  {
   "cell_type": "markdown",
   "id": "68bdb6ce-de92-4b4d-8b3e-15fdd2cf6ca3",
   "metadata": {},
   "source": [
    "All of the following should throw errors for invalid input. "
   ]
  },
  {
   "cell_type": "code",
   "execution_count": 11,
   "id": "1c09691b-2ec0-4251-8fa5-2a1577d71240",
   "metadata": {},
   "outputs": [
    {
     "name": "stdout",
     "output_type": "stream",
     "text": [
      "Error: coordinate list invalid. Length is 0. Ensure at least 2 points to interpolate\n",
      "Error: step size must be greater than 0.\n",
      "Error: coordinate list invalid. Length is 1. Ensure at least 2 points to interpolate\n"
     ]
    },
    {
     "data": {
      "text/plain": [
       "[[0, 0, 0, 0, 0, 0]]"
      ]
     },
     "execution_count": 11,
     "metadata": {},
     "output_type": "execute_result"
    }
   ],
   "source": [
    "# Error Testing\n",
    "no_path = []\n",
    "path_too_short = [[0,0,0,0,0,0]]\n",
    "\n",
    "UR_lib.linear_interp(no_path, step_size=1, debugging=True)\n",
    "UR_lib.linear_interp(zeros_path, step_size=0, debugging=True)\n",
    "UR_lib.linear_interp(path_too_short, step_size=1, debugging=True)"
   ]
  },
  {
   "cell_type": "markdown",
   "id": "11b13de3-e14c-45f7-b8b2-a68ad5ea8013",
   "metadata": {},
   "source": [
    "## Relative Trajectory testing: "
   ]
  },
  {
   "cell_type": "code",
   "execution_count": 5,
   "id": "3e21277c-f9ef-43cc-81d9-ab224364266b",
   "metadata": {},
   "outputs": [
    {
     "name": "stdout",
     "output_type": "stream",
     "text": [
      "global: [[0.2, 0.1, 0.4, 0.0, 0.0, 0.0], [0.2, 0.1, 0.39, 0.0, 0.0, 0.0], [0.30000000000000004, 0.1, 0.39, 0.0, 0.0, 90.0]]\n"
     ]
    }
   ],
   "source": [
    "# Testing relative trajectory\n",
    "relative_trajectory = np.array([\n",
    "    [0.0, 0.0, -0.01, 0.0, 0.0, 0.0],\n",
    "    [0.1, 0.0, 0.0, 0.0, 0.0, 90.0],\n",
    "])\n",
    "# relative_trajectory = linear_interp(relative_trajectory, debugging=True)\n",
    "# Move the end effector through the trajectory\n",
    "start = [0.2, 0.1, 0.4, 0.0, 0.0, 0.0]\n",
    "global_trajectory = UR_lib.relative_to_global(relative_trajectory, start)\n",
    "\n",
    "print(f\"global: {global_trajectory}\")"
   ]
  },
  {
   "cell_type": "markdown",
   "id": "7a0450f1-722c-45f5-9438-e09c62bb5ebb",
   "metadata": {},
   "source": [
    "## Testing with the arm: "
   ]
  },
  {
   "cell_type": "code",
   "execution_count": 5,
   "id": "a45485a0-c10f-4638-8cca-5ecd25aa3063",
   "metadata": {},
   "outputs": [
    {
     "name": "stdout",
     "output_type": "stream",
     "text": [
      "\n",
      "--- Original Coordinates ---\n",
      "[0.2, 0.1, 0.4, 0.0, 0.0, 0.0]\n",
      "[0.2, 0.1, 0.39, 0.0, 0.0, 0.0]\n",
      "[0.30000000000000004, 0.1, 0.39, 0.0, 0.0, 0.0]\n",
      "[0.30000000000000004, 0.1, 0.39, 0.0, 0.0, 90.0]\n",
      "[0.30000000000000004, 0.2, 0.39, 0.0, 0.0, 90.0]\n",
      "[0.30000000000000004, 0.2, 0.39, 0.0, 0.0, 0.0]\n",
      "[0.20000000000000004, 0.2, 0.39, 0.0, 0.0, 0.0]\n",
      "[0.20000000000000004, 0.2, 0.39, 0.0, 0.0, 90.0]\n",
      "[0.20000000000000004, 0.1, 0.39, 0.0, 0.0, 90.0]\n",
      "[0.20000000000000004, 0.1, 0.39, 0.0, 0.0, 0.0]\n",
      "\n",
      "--- Interpolated Coordinates ---\n",
      "Point 0: [0.2, 0.1, 0.4, 0.0, 0.0, 0.0]\n",
      "Point 1: [0.2, 0.1, 0.39, 0.0, 0.0, 0.0]\n",
      "Point 2: [0.21000000000000002, 0.1, 0.39, 0.0, 0.0, 0.0]\n",
      "Point 3: [0.22000000000000003, 0.1, 0.39, 0.0, 0.0, 0.0]\n",
      "Point 4: [0.23, 0.1, 0.39, 0.0, 0.0, 0.0]\n",
      "Point 5: [0.24000000000000002, 0.1, 0.39, 0.0, 0.0, 0.0]\n",
      "Point 6: [0.25, 0.1, 0.39, 0.0, 0.0, 0.0]\n",
      "Point 7: [0.26, 0.1, 0.39, 0.0, 0.0, 0.0]\n",
      "Point 8: [0.27, 0.1, 0.39, 0.0, 0.0, 0.0]\n",
      "Point 9: [0.28, 0.1, 0.39, 0.0, 0.0, 0.0]\n",
      "Point 10: [0.29000000000000004, 0.1, 0.39, 0.0, 0.0, 0.0]\n",
      "Point 11: [0.30000000000000004, 0.1, 0.39, 0.0, 0.0, 0.0]\n",
      "Point 12: [0.30000000000000004, 0.1, 0.39, 0.0, 0.0, 90.0]\n",
      "Point 13: [0.30000000000000004, 0.11000000000000001, 0.39, 0.0, 0.0, 90.0]\n",
      "Point 14: [0.30000000000000004, 0.12000000000000001, 0.39, 0.0, 0.0, 90.0]\n",
      "Point 15: [0.30000000000000004, 0.13, 0.39, 0.0, 0.0, 90.0]\n",
      "Point 16: [0.30000000000000004, 0.14, 0.39, 0.0, 0.0, 90.0]\n",
      "Point 17: [0.30000000000000004, 0.15000000000000002, 0.39, 0.0, 0.0, 90.0]\n",
      "Point 18: [0.30000000000000004, 0.16, 0.39, 0.0, 0.0, 90.0]\n",
      "Point 19: [0.30000000000000004, 0.16999999999999998, 0.39, 0.0, 0.0, 90.0]\n",
      "Point 20: [0.30000000000000004, 0.18000000000000002, 0.39, 0.0, 0.0, 90.0]\n",
      "Point 21: [0.30000000000000004, 0.19, 0.39, 0.0, 0.0, 90.0]\n",
      "Point 22: [0.30000000000000004, 0.2, 0.39, 0.0, 0.0, 90.0]\n",
      "Point 23: [0.30000000000000004, 0.2, 0.39, 0.0, 0.0, 0.0]\n",
      "Point 24: [0.29000000000000004, 0.2, 0.39, 0.0, 0.0, 0.0]\n",
      "Point 25: [0.28, 0.2, 0.39, 0.0, 0.0, 0.0]\n",
      "Point 26: [0.27, 0.2, 0.39, 0.0, 0.0, 0.0]\n",
      "Point 27: [0.26, 0.2, 0.39, 0.0, 0.0, 0.0]\n",
      "Point 28: [0.25000000000000006, 0.2, 0.39, 0.0, 0.0, 0.0]\n",
      "Point 29: [0.24000000000000005, 0.2, 0.39, 0.0, 0.0, 0.0]\n",
      "Point 30: [0.23000000000000004, 0.2, 0.39, 0.0, 0.0, 0.0]\n",
      "Point 31: [0.22000000000000003, 0.2, 0.39, 0.0, 0.0, 0.0]\n",
      "Point 32: [0.21000000000000002, 0.2, 0.39, 0.0, 0.0, 0.0]\n",
      "Point 33: [0.20000000000000004, 0.2, 0.39, 0.0, 0.0, 0.0]\n",
      "Point 34: [0.20000000000000004, 0.2, 0.39, 0.0, 0.0, 90.0]\n",
      "Point 35: [0.20000000000000004, 0.19, 0.39, 0.0, 0.0, 90.0]\n",
      "Point 36: [0.20000000000000004, 0.18, 0.39, 0.0, 0.0, 90.0]\n",
      "Point 37: [0.20000000000000004, 0.17, 0.39, 0.0, 0.0, 90.0]\n",
      "Point 38: [0.20000000000000004, 0.16, 0.39, 0.0, 0.0, 90.0]\n",
      "Point 39: [0.20000000000000004, 0.15000000000000002, 0.39, 0.0, 0.0, 90.0]\n",
      "Point 40: [0.20000000000000004, 0.14, 0.39, 0.0, 0.0, 90.0]\n",
      "Point 41: [0.20000000000000004, 0.13, 0.39, 0.0, 0.0, 90.0]\n",
      "Point 42: [0.20000000000000004, 0.12, 0.39, 0.0, 0.0, 90.0]\n",
      "Point 43: [0.20000000000000004, 0.11, 0.39, 0.0, 0.0, 90.0]\n",
      "Point 44: [0.20000000000000004, 0.1, 0.39, 0.0, 0.0, 90.0]\n",
      "Point 45: [0.20000000000000004, 0.1, 0.39, 0.0, 0.0, 0.0]\n",
      "Total interpolated points: 46\n"
     ]
    },
    {
     "name": "stderr",
     "output_type": "stream",
     "text": [
      "[INFO] [1750169397.777470004] [remote_control_client]: Goal #1: Executing\n",
      "[INFO] [1750169402.863243425] [remote_control_client]: Goal #1: Completed\n",
      "[INFO] [1750169402.929959302] [remote_control_client]: Goal #2: Executing\n"
     ]
    },
    {
     "name": "stdout",
     "output_type": "stream",
     "text": [
      "done\n"
     ]
    },
    {
     "name": "stderr",
     "output_type": "stream",
     "text": [
      "[INFO] [1750169430.985033851] [remote_control_client]: Goal #2: Completed\n"
     ]
    }
   ],
   "source": [
    "# Move in a 10cm square using global relative commands\n",
    "relative_trajectory = [\n",
    "    [0.0, 0.0, -0.01, 0.0, 0.0, 0.0],\n",
    "    [0.1, 0.0, 0.0, 0.0, 0.0, 0.0],\n",
    "    [0.0, 0.0, 0.0, 0.0, 0.0, 90.0],\n",
    "    [0.0, 0.1, 0.0, 0.0, 0.0, 0.0],\n",
    "    [0.0, 0.0, 0.0, 0.0, 0.0, -90.0],\n",
    "    [-0.1, 0.0, 0.0, 0.0, 0.0, 0.0],\n",
    "    [0, 0.0, 0.0, 0.0, 0.0, 90.0],\n",
    "    [0.0, -0.1, 0.0, 0.0, 0.0, 0.0],\n",
    "    [0.0, 0.0, 0.0, 0.0, 0.0, -90.0]\n",
    "]\n",
    "start_pos = [0.2, 0.1, 0.4, 0.0, 0.0, 0.0]\n",
    "global_trajectory = UR_lib.relative_to_global(relative_trajectory, start_pos)\n",
    "global_trajectory = UR_lib.linear_interp(global_trajectory, debugging=True, aligned=False)\n",
    "# Move the end effector through the trajectory\n",
    "robot.move_global(start_pos)\n",
    "robot.move_global(global_trajectory, (len(global_trajectory)/2))\n",
    "print(\"done\")"
   ]
  },
  {
   "cell_type": "markdown",
   "id": "e1705bb2-474f-43f4-a308-52fadf29c5ac",
   "metadata": {},
   "source": [
    "## Drawing Circles"
   ]
  },
  {
   "cell_type": "code",
   "execution_count": 15,
   "id": "d144c688-bb71-4e1d-977c-40d146a21354",
   "metadata": {},
   "outputs": [
    {
     "name": "stderr",
     "output_type": "stream",
     "text": [
      "[INFO] [1749829310.168690231] [remote_control_client]: Goal #24: Executing\n"
     ]
    },
    {
     "name": "stdout",
     "output_type": "stream",
     "text": [
      "make sure center position seems viable.\n"
     ]
    },
    {
     "name": "stderr",
     "output_type": "stream",
     "text": [
      "[INFO] [1749829315.223122020] [remote_control_client]: Goal #24: Completed\n"
     ]
    },
    {
     "name": "stdout",
     "output_type": "stream",
     "text": [
      "Theta 345.0° -> [np.float64(0.3465925826289068), np.float64(0.1), np.float64(0.3141180954897479), 0.1, 0.1, 0.1]\n"
     ]
    },
    {
     "name": "stderr",
     "output_type": "stream",
     "text": [
      "[INFO] [1749829317.393285459] [remote_control_client]: Goal #25: Executing\n"
     ]
    },
    {
     "name": "stdout",
     "output_type": "stream",
     "text": [
      "done\n"
     ]
    },
    {
     "name": "stderr",
     "output_type": "stream",
     "text": [
      "[INFO] [1749829334.450390998] [remote_control_client]: Goal #25: Completed\n"
     ]
    }
   ],
   "source": [
    "# center = [0.4, 0.2, 0.5, 0, 0, 0] # generated location\n",
    "center = [0.25, 0.1, 0.34, 0.0, 0.0, 0.0]\n",
    "robot.move_global(center)\n",
    "print(\"make sure center position seems viable.\")\n",
    "time.sleep(2)\n",
    "trajectory = UR_lib.draw_circle(\n",
    "    center,\n",
    "    radius=0.1,\n",
    "    num_points=24,\n",
    "    degrees=True,\n",
    "    plane_rotation=[90, 0, 0],  # Tilt circle 45° around Y-axis\n",
    "    debugging=True,\n",
    "    aligned=False\n",
    ")\n",
    "robot.move_global(trajectory, len(trajectory)/2)\n",
    "print(\"done\")"
   ]
  },
  {
   "cell_type": "markdown",
   "id": "8984327d-cd4c-4246-8a60-a9f5c8d7c80f",
   "metadata": {},
   "source": [
    "## Zig Zag"
   ]
  },
  {
   "cell_type": "code",
   "execution_count": 6,
   "id": "64be4136-243f-4827-bad1-afaea5ad7c83",
   "metadata": {},
   "outputs": [
    {
     "data": {
      "text/plain": [
       "[0.28750181198120117,\n",
       " -0.006999377626925707,\n",
       " 0.16555452346801758,\n",
       " -0.7003953924492897,\n",
       " 1.6304775652904702,\n",
       " -5.704603487096954]"
      ]
     },
     "execution_count": 6,
     "metadata": {},
     "output_type": "execute_result"
    }
   ],
   "source": [
    "robot.read_global_pos()"
   ]
  },
  {
   "cell_type": "code",
   "execution_count": 29,
   "id": "1894ba7b-d867-4cb4-9384-9d807f0b6a78",
   "metadata": {},
   "outputs": [
    {
     "name": "stderr",
     "output_type": "stream",
     "text": [
      "[INFO] [1750190947.666781986] [remote_control_client]: Goal #61: Executing\n",
      "[INFO] [1750190952.722904264] [remote_control_client]: Goal #61: Completed\n"
     ]
    },
    {
     "name": "stdout",
     "output_type": "stream",
     "text": [
      "done\n"
     ]
    }
   ],
   "source": [
    "zig_zag = [[.26, -0.02, 0, 0, 0, 0],\n",
    "           [.2, -0.01, 0, 0, 0, 0],\n",
    "           [.26, 0, 0, 0, 0, 0],\n",
    "           [.2, 0.01, 0, 0, 0, 0],\n",
    "           [.26, 0.02, 0, 0, 0, 0],\n",
    "           [.2, 0.03, 0, 0, 0, 0],\n",
    "           [.26, 0.04, 0, 0, 0, 0],\n",
    "           [.2, 0.03, 0, 0, 0, 0],\n",
    "           [.26, 0.02, 0, 0, 0, 0],\n",
    "           [.2, 0.01, 0, 0, 0, 0],\n",
    "           [.26, 0, 0, 0, 0, 0],\n",
    "           [.2, -0.01, 0, 0, 0, 0],\n",
    "           [.26, -0.02, 0, 0, 0, 0]]\n",
    "UR_lib.set_z(zig_zag, .175)\n",
    "start = [.28, -.02, .3, 0, 0, 0]\n",
    "robot.move_global(start)\n",
    "time.sleep(2)\n",
    "zig_zag = UR_lib.linear_interp(zig_zag, debugging=False)\n",
    "robot.move_global(zig_zag, 15, wait=True)\n",
    "robot.move_global([.26, -0.02, .2, 0, 0, 0])\n",
    "print(\"done\")"
   ]
  },
  {
   "cell_type": "code",
   "execution_count": null,
   "id": "ad23e744-53ce-43e0-9fea-fe7ac04572c4",
   "metadata": {},
   "outputs": [],
   "source": []
  },
  {
   "cell_type": "code",
   "execution_count": null,
   "id": "1b8684f5-8898-4dca-ae34-c76479609694",
   "metadata": {},
   "outputs": [],
   "source": []
  }
 ],
 "metadata": {
  "kernelspec": {
   "display_name": "Python [conda env:base] *",
   "language": "python",
   "name": "conda-base-py"
  },
  "language_info": {
   "codemirror_mode": {
    "name": "ipython",
    "version": 3
   },
   "file_extension": ".py",
   "mimetype": "text/x-python",
   "name": "python",
   "nbconvert_exporter": "python",
   "pygments_lexer": "ipython3",
   "version": "3.10.14"
  }
 },
 "nbformat": 4,
 "nbformat_minor": 5
}
