{
 "cells": [
  {
   "cell_type": "markdown",
   "id": "a89136a7-755f-4762-8e30-e383600ae173",
   "metadata": {},
   "source": [
    "# Library Testing! "
   ]
  },
  {
   "cell_type": "markdown",
   "id": "303b14e0-5a80-4ab8-978f-94f24c6b990d",
   "metadata": {},
   "source": [
    "Start by testing interpolation against existing UR3 library"
   ]
  },
  {
   "cell_type": "markdown",
   "id": "81f307c7-4359-49ff-a34b-fc2b5d9bb6e3",
   "metadata": {},
   "source": [
    "1. Import + initialize Liam and Aengus libray "
   ]
  },
  {
   "cell_type": "code",
   "execution_count": 2,
   "id": "901d1f67-0c45-4aa5-9338-621995805971",
   "metadata": {},
   "outputs": [
    {
     "name": "stdout",
     "output_type": "stream",
     "text": [
      "done\n"
     ]
    }
   ],
   "source": [
    "from UR_summer2025 import MyUR3e, Trajectory\n",
    "\n",
    "# Create an instance of the MyUR3e class\n",
    "robot = MyUR3e()\n",
    "traj = Trajectory()\n",
    "print(\"done\")"
   ]
  },
  {
   "cell_type": "code",
   "execution_count": 2,
   "id": "cf8a8183-4846-42f1-a116-21e25361925d",
   "metadata": {},
   "outputs": [
    {
     "name": "stdout",
     "output_type": "stream",
     "text": [
      "/home/jupyter-hannahloly/ME121-25/Jupyter\n"
     ]
    }
   ],
   "source": [
    "!pwd"
   ]
  },
  {
   "cell_type": "code",
   "execution_count": 3,
   "id": "eb7f22d9-eaff-42f3-a2cc-26522814ce1c",
   "metadata": {},
   "outputs": [
    {
     "name": "stdout",
     "output_type": "stream",
     "text": [
      "Activities\t\t motion2.ipynb\t       UR_ROS2\n",
      "Hackathon_Testing\t plot_motion.ipynb     UR_summer2025\n",
      "In_Depth_Tutorial.ipynb  __pycache__\t       websockets_class.py\n",
      "lib_testing.ipynb\t trajectory_file.json\n",
      "ME121_Intro.ipynb\t ur3e_trajectory.html\n"
     ]
    }
   ],
   "source": [
    "!ls"
   ]
  },
  {
   "cell_type": "markdown",
   "id": "8d07ee47-08eb-4621-957d-8b0d61cbdee7",
   "metadata": {},
   "source": [
    "2. Import Hannah and Leia library + create a test path"
   ]
  },
  {
   "cell_type": "code",
   "execution_count": 3,
   "id": "9dd9b2bc-cb8a-468c-9f21-7d8c2e20530a",
   "metadata": {},
   "outputs": [
    {
     "name": "stdout",
     "output_type": "stream",
     "text": [
      "[[0, 0, 0, 0, 0, 0], [0.006, 0.008, 0.002, 6.0, 0.0, 0.0], [0.012, 0.016, 0.004, 12.0, 0.0, 0.0], [0.018, 0.024, 0.006, 18.0, 0.0, 0.0], [0.024, 0.032, 0.008, 24.0, 0.0, 0.0], [0.03, 0.04, 0.01, 30.0, 0.0, 0.0], [0.036, 0.048, 0.012, 42.0, 4.0, 0.0], [0.041999999999999996, 0.056, 0.014, 54.0, 8.0, 0.0], [0.048, 0.064, 0.016, 66.0, 12.0, 0.0], [0.054, 0.07200000000000001, 0.018000000000000002, 78.0, 16.0, 0.0], [0.06, 0.08, 0.02, 90.0, 20.0, 0.0], [0.06, 0.08, 0.02, 90.0, 20.0, 20.0]]\n",
      "done\n"
     ]
    }
   ],
   "source": [
    "import time\n",
    "import numpy as np \n",
    "\n",
    "# Test path\n",
    "traj.trajectory = [[0,0,0,0,0,0],\n",
    "                    [.03,.04,.01,30,0,0],\n",
    "                    [.06,.08,.02,90,20,0],\n",
    "                    [.06,.08,.02,90,20,20]]\n",
    "#testing no args\n",
    "traj.linear_interp() # should default interpolate traj.trajectory w/ step size .01\n",
    "print(traj.trajectory)\n",
    "\n",
    "print(\"done\")"
   ]
  },
  {
   "cell_type": "markdown",
   "id": "af13e14a-c2ee-411c-9ccb-f9f9339b247e",
   "metadata": {},
   "source": [
    "You can check the nodes by running:"
   ]
  },
  {
   "cell_type": "code",
   "execution_count": 4,
   "id": "4c824a24-76aa-4adf-95d1-debb40e37e1f",
   "metadata": {},
   "outputs": [
    {
     "name": "stdout",
     "output_type": "stream",
     "text": [
      "/dynamic_joint_states\n",
      "/force_mode_controller/transition_event\n",
      "/force_torque_sensor_broadcaster/transition_event\n",
      "/force_torque_sensor_broadcaster/wrench\n",
      "/forward_position_controller/commands\n",
      "/forward_position_controller/transition_event\n",
      "/forward_velocity_controller/commands\n",
      "/forward_velocity_controller/transition_event\n",
      "/freedrive_mode_controller/enable_freedrive_mode\n",
      "/freedrive_mode_controller/transition_event\n",
      "/gripper/control\n",
      "/gripper/state\n",
      "/io_and_status_controller/io_states\n",
      "/io_and_status_controller/robot_mode\n",
      "/io_and_status_controller/robot_program_running\n",
      "/io_and_status_controller/safety_mode\n",
      "/io_and_status_controller/tool_data\n",
      "/io_and_status_controller/transition_event\n",
      "/joint_state_broadcaster/transition_event\n",
      "/joint_states\n",
      "/joint_trajectory_controller/controller_state\n",
      "/joint_trajectory_controller/joint_trajectory\n",
      "/joint_trajectory_controller/state\n",
      "/joint_trajectory_controller/transition_event\n",
      "/parameter_events\n",
      "/passthrough_trajectory_controller/transition_event\n",
      "/robot_description\n",
      "/rosout\n",
      "/scaled_joint_trajectory_controller/controller_state\n",
      "/scaled_joint_trajectory_controller/joint_trajectory\n",
      "/scaled_joint_trajectory_controller/state\n",
      "/scaled_joint_trajectory_controller/transition_event\n",
      "/speed_scaling_state_broadcaster/speed_scaling\n",
      "/speed_scaling_state_broadcaster/transition_event\n",
      "/tcp_pose_broadcaster/pose\n",
      "/tcp_pose_broadcaster/transition_event\n",
      "/tf\n",
      "/tf_static\n",
      "/tool_contact_controller/transition_event\n",
      "/ur_configuration_controller/transition_event\n",
      "/urscript_interface/script_command\n"
     ]
    }
   ],
   "source": [
    "!ros2 topic list"
   ]
  },
  {
   "cell_type": "markdown",
   "id": "aee3862a-c5c8-46d2-b8ea-ce0fb90c51bd",
   "metadata": {},
   "source": [
    "This should be a working path that throws no errors and prints results. "
   ]
  },
  {
   "cell_type": "code",
   "execution_count": 4,
   "id": "9cbe5ed0-39f2-43fb-ab86-ef7786bbeb96",
   "metadata": {},
   "outputs": [
    {
     "name": "stdout",
     "output_type": "stream",
     "text": [
      "\n",
      "--- Original Coordinates ---\n",
      "[0, 0, 0, 0, 0, 0]\n",
      "[3, 4, 1, 30, 0, 0]\n",
      "[6, 8, 2, 90, 20, 0]\n",
      "[6, 8, 2, 90, 20, 20]\n",
      "\n",
      "--- Interpolated Coordinates ---\n",
      "Point 0: [0, 0, 0, 0, 0, 0]\n",
      "Point 1: [0.6000000000000001, 0.8, 0.2, 6.0, 0.0, 0.0]\n",
      "Point 2: [1.2000000000000002, 1.6, 0.4, 12.0, 0.0, 0.0]\n",
      "Point 3: [1.7999999999999998, 2.4, 0.6, 18.0, 0.0, 0.0]\n",
      "Point 4: [2.4000000000000004, 3.2, 0.8, 24.0, 0.0, 0.0]\n",
      "Point 5: [3.0, 4.0, 1.0, 30.0, 0.0, 0.0]\n",
      "Point 6: [3.6, 4.8, 1.2, 42.0, 4.0, 0.0]\n",
      "Point 7: [4.2, 5.6, 1.4, 54.0, 8.0, 0.0]\n",
      "Point 8: [4.8, 6.4, 1.6, 66.0, 12.0, 0.0]\n",
      "Point 9: [5.4, 7.2, 1.8, 78.0, 16.0, 0.0]\n",
      "Point 10: [6.0, 8.0, 2.0, 90.0, 20.0, 0.0]\n",
      "Point 11: [6.0, 8.0, 2.0, 90.0, 20.0, 20.0]\n",
      "Total interpolated points: 12\n"
     ]
    }
   ],
   "source": [
    "traj.trajectory = [[0,0,0,0,0,0],\n",
    "                    [3,4,1,30,0,0],\n",
    "                    [6,8,2,90,20,0],\n",
    "                    [6,8,2,90,20,20]]\n",
    "interpolated_result = traj.linear_interp(step_size = 1, debugging=True, aligned=False)"
   ]
  },
  {
   "cell_type": "markdown",
   "id": "2d5c4b42-6501-4de4-b027-9da4dc3dea00",
   "metadata": {},
   "source": [
    "This path should throw no errors but no interpolation should occur (Original = Interpolated)"
   ]
  },
  {
   "cell_type": "code",
   "execution_count": 4,
   "id": "10616d83-46fd-4986-a1e9-3e6ce11234a7",
   "metadata": {},
   "outputs": [
    {
     "name": "stdout",
     "output_type": "stream",
     "text": [
      "\n",
      "--- Original Coordinates ---\n",
      "[0, 0, 0, 0, 0, 0]\n",
      "[0, 0, 0, 0, 0, 40]\n",
      "[0, 0, 0, 0, 0, 0]\n",
      "\n",
      "--- Interpolated Coordinates ---\n",
      "Point 0: [0, 0, 0, 0, 0, 360]\n",
      "Point 1: [0.0, 0.0, 0.0, 0.0, 0.0, 360]\n",
      "Point 2: [0.0, 0.0, 0.0, 0.0, 0.0, 90.0]\n",
      "Total interpolated points: 3\n"
     ]
    },
    {
     "data": {
      "text/plain": [
       "[[0, 0, 0, 0, 0, 360],\n",
       " [0.0, 0.0, 0.0, 0.0, 0.0, 360],\n",
       " [0.0, 0.0, 0.0, 0.0, 0.0, 90.0]]"
      ]
     },
     "execution_count": 4,
     "metadata": {},
     "output_type": "execute_result"
    }
   ],
   "source": [
    "# nothing should happen here\n",
    "zeros_path = [[0,0,0,0,0,0],\n",
    "            [0,0,0,0,0,40],\n",
    "            [0,0,0,0,0,0]]\n",
    "traj.linear_interp(zeros_path, step_size=1, debugging=True, aligned=True)"
   ]
  },
  {
   "cell_type": "markdown",
   "id": "68bdb6ce-de92-4b4d-8b3e-15fdd2cf6ca3",
   "metadata": {},
   "source": [
    "All of the following should throw errors for invalid input. "
   ]
  },
  {
   "cell_type": "code",
   "execution_count": 5,
   "id": "1c09691b-2ec0-4251-8fa5-2a1577d71240",
   "metadata": {},
   "outputs": [
    {
     "name": "stdout",
     "output_type": "stream",
     "text": [
      "\n",
      "--- Original Coordinates ---\n",
      "Error: coordinate list invalid. Length is 0. Ensure at least 2 points to interpolate\n",
      "\n",
      "--- Original Coordinates ---\n",
      "[0, 0, 0, 0, 0, 360]\n",
      "[0, 0, 0, 0, 0, 40]\n",
      "[0, 0, 0, 0, 0, 0]\n",
      "Error: step size must be greater than 0.\n",
      "\n",
      "--- Original Coordinates ---\n",
      "[0, 0, 0, 0, 0, 0]\n",
      "Error: coordinate list invalid. Length is 1. Ensure at least 2 points to interpolate\n"
     ]
    },
    {
     "data": {
      "text/plain": [
       "[[0, 0, 0, 0, 0, 0]]"
      ]
     },
     "execution_count": 5,
     "metadata": {},
     "output_type": "execute_result"
    }
   ],
   "source": [
    "# Error Testing\n",
    "no_path = []\n",
    "path_too_short = [[0,0,0,0,0,0]]\n",
    "\n",
    "traj.linear_interp(no_path, step_size=1, debugging=True)\n",
    "traj.linear_interp(zeros_path, step_size=0, debugging=True)\n",
    "traj.linear_interp(path_too_short, step_size=1, debugging=True)"
   ]
  },
  {
   "cell_type": "markdown",
   "id": "11b13de3-e14c-45f7-b8b2-a68ad5ea8013",
   "metadata": {},
   "source": [
    "## Relative Trajectory testing: "
   ]
  },
  {
   "cell_type": "code",
   "execution_count": 6,
   "id": "3e21277c-f9ef-43cc-81d9-ab224364266b",
   "metadata": {},
   "outputs": [
    {
     "name": "stdout",
     "output_type": "stream",
     "text": [
      "global: [[0.2, 0.1, 0.4, 0.0, 0.0, 0.0], [0.2, 0.1, 0.39, 0.0, 0.0, 0.0], [0.30000000000000004, 0.1, 0.39, 0.0, 0.0, 90.0]]\n"
     ]
    }
   ],
   "source": [
    "# Testing relative trajectory\n",
    "relative_trajectory = np.array([\n",
    "    [0.0, 0.0, -0.01, 0.0, 0.0, 0.0],\n",
    "    [0.1, 0.0, 0.0, 0.0, 0.0, 90.0],\n",
    "])\n",
    "# relative_trajectory = linear_interp(relative_trajectory, debugging=True)\n",
    "# Move the end effector through the trajectory\n",
    "start = [0.2, 0.1, 0.4, 0.0, 0.0, 0.0]\n",
    "global_trajectory = traj.relative_to_global(relative_trajectory, start)\n",
    "\n",
    "print(f\"global: {global_trajectory}\")"
   ]
  },
  {
   "cell_type": "markdown",
   "id": "7a0450f1-722c-45f5-9438-e09c62bb5ebb",
   "metadata": {},
   "source": [
    "## Testing with the arm: "
   ]
  },
  {
   "cell_type": "code",
   "execution_count": 7,
   "id": "a45485a0-c10f-4638-8cca-5ecd25aa3063",
   "metadata": {},
   "outputs": [
    {
     "name": "stderr",
     "output_type": "stream",
     "text": [
      "[INFO] [1751470184.361998579] [remote_control_client]: Goal #1: Executing\n",
      "[INFO] [1751470189.403435079] [remote_control_client]: Goal #1: Completed\n",
      "[INFO] [1751470189.442016709] [remote_control_client]: Goal #2: Executing\n"
     ]
    },
    {
     "name": "stdout",
     "output_type": "stream",
     "text": [
      "done\n"
     ]
    },
    {
     "name": "stderr",
     "output_type": "stream",
     "text": [
      "[INFO] [1751470217.498435562] [remote_control_client]: Goal #2: Completed\n"
     ]
    }
   ],
   "source": [
    "# Move in a 10cm square using global relative commands\n",
    "relative_trajectory = [\n",
    "    [0.0, 0.0, -0.01, 0.0, 0.0, 0.0],\n",
    "    [0.1, 0.0, 0.0, 0.0, 0.0, 0.0],\n",
    "    [0.0, 0.0, 0.0, 0.0, 0.0, 90.0],\n",
    "    [0.0, 0.1, 0.0, 0.0, 0.0, 0.0],\n",
    "    [0.0, 0.0, 0.0, 0.0, 0.0, -90.0],\n",
    "    [-0.1, 0.0, 0.0, 0.0, 0.0, 0.0],\n",
    "    [0, 0.0, 0.0, 0.0, 0.0, 90.0],\n",
    "    [0.0, -0.1, 0.0, 0.0, 0.0, 0.0],\n",
    "    [0.0, 0.0, 0.0, 0.0, 0.0, -90.0]\n",
    "]\n",
    "start_pos = [0.2, 0.1, 0.4, 0.0, 0.0, 0.0]\n",
    "global_trajectory = traj.relative_to_global(relative_trajectory, start_pos)\n",
    "global_trajectory = traj.linear_interp(global_trajectory, debugging=False, aligned=False)\n",
    "# Move the end effector through the trajectory\n",
    "robot.move_global(start_pos)\n",
    "robot.move_global(global_trajectory, (len(global_trajectory)/2))\n",
    "print(\"done\")"
   ]
  },
  {
   "cell_type": "markdown",
   "id": "e1705bb2-474f-43f4-a308-52fadf29c5ac",
   "metadata": {},
   "source": [
    "## Drawing Circles"
   ]
  },
  {
   "cell_type": "code",
   "execution_count": 9,
   "id": "d144c688-bb71-4e1d-977c-40d146a21354",
   "metadata": {},
   "outputs": [
    {
     "name": "stderr",
     "output_type": "stream",
     "text": [
      "[INFO] [1751470265.378465985] [remote_control_client]: Goal #4: Executing\n",
      "[INFO] [1751470270.382675754] [remote_control_client]: Goal #4: Completed\n"
     ]
    },
    {
     "name": "stdout",
     "output_type": "stream",
     "text": [
      "make sure center position seems viable.\n"
     ]
    },
    {
     "name": "stderr",
     "output_type": "stream",
     "text": [
      "[INFO] [1751470271.232590965] [remote_control_client]: Goal #5: Executing\n",
      "[INFO] [1751470288.287095429] [remote_control_client]: Goal #5: Completed\n"
     ]
    },
    {
     "name": "stdout",
     "output_type": "stream",
     "text": [
      "done\n"
     ]
    }
   ],
   "source": [
    "# center = [0.4, 0.2, 0.5, 0, 0, 0] # generated location\n",
    "center = [0.25, 0.1, 0.34, 0.0, 0.0, 0.0]\n",
    "robot.move_global(center)\n",
    "print(\"make sure center position seems viable.\")\n",
    "trajectory = traj.draw_circle(\n",
    "    center,\n",
    "    radius=0.1,\n",
    "    num_points=24,\n",
    "    degrees=True,\n",
    "    plane_rotation=[0, 0, 0],  # Tilt circle 45° around Y-axis\n",
    "    debugging=False,\n",
    "    aligned=True\n",
    ")\n",
    "robot.move_global(trajectory, len(trajectory)/2)\n",
    "print(\"done\")"
   ]
  },
  {
   "cell_type": "markdown",
   "id": "8984327d-cd4c-4246-8a60-a9f5c8d7c80f",
   "metadata": {},
   "source": [
    "## Zig Zag"
   ]
  },
  {
   "cell_type": "code",
   "execution_count": 6,
   "id": "64be4136-243f-4827-bad1-afaea5ad7c83",
   "metadata": {},
   "outputs": [
    {
     "data": {
      "text/plain": [
       "[0.28750181198120117,\n",
       " -0.006999377626925707,\n",
       " 0.16555452346801758,\n",
       " -0.7003953924492897,\n",
       " 1.6304775652904702,\n",
       " -5.704603487096954]"
      ]
     },
     "execution_count": 6,
     "metadata": {},
     "output_type": "execute_result"
    }
   ],
   "source": [
    "robot.read_global_pos()"
   ]
  },
  {
   "cell_type": "code",
   "execution_count": 11,
   "id": "1894ba7b-d867-4cb4-9384-9d807f0b6a78",
   "metadata": {},
   "outputs": [
    {
     "name": "stderr",
     "output_type": "stream",
     "text": [
      "[INFO] [1751470433.795625047] [remote_control_client]: Goal #6: Executing\n",
      "[INFO] [1751470438.850081281] [remote_control_client]: Goal #6: Completed\n",
      "[INFO] [1751470441.053153719] [remote_control_client]: Goal #7: Executing\n",
      "[INFO] [1751470461.145591220] [remote_control_client]: Goal #7: Completed\n",
      "[INFO] [1751470461.207483906] [remote_control_client]: Goal #8: Executing\n"
     ]
    },
    {
     "name": "stdout",
     "output_type": "stream",
     "text": [
      "done\n"
     ]
    },
    {
     "name": "stderr",
     "output_type": "stream",
     "text": [
      "[INFO] [1751470466.263642898] [remote_control_client]: Goal #8: Completed\n"
     ]
    }
   ],
   "source": [
    "zig_zag = [[.26, -0.02, 0, 0, 0, 0],\n",
    "           [.2, -0.01, 0, 0, 0, 0],\n",
    "           [.26, 0, 0, 0, 0, 0],\n",
    "           [.2, 0.01, 0, 0, 0, 0],\n",
    "           [.26, 0.02, 0, 0, 0, 0],\n",
    "           [.2, 0.03, 0, 0, 0, 0],\n",
    "           [.26, 0.04, 0, 0, 0, 0],\n",
    "           [.2, 0.03, 0, 0, 0, 0],\n",
    "           [.26, 0.02, 0, 0, 0, 0],\n",
    "           [.2, 0.01, 0, 0, 0, 0],\n",
    "           [.26, 0, 0, 0, 0, 0],\n",
    "           [.2, -0.01, 0, 0, 0, 0],\n",
    "           [.26, -0.02, 0, 0, 0, 0]]\n",
    "traj.trajectory = zig_zag\n",
    "traj.set_z(.25)\n",
    "start = [.28, -.02, .3, 0, 0, 0]\n",
    "robot.move_global(start)\n",
    "time.sleep(2)\n",
    "traj.linear_interp()\n",
    "robot.move_global(traj.trajectory, 15, wait=True)\n",
    "robot.move_global([.26, -0.02, .2, 0, 0, 0])\n",
    "print(\"done\")"
   ]
  },
  {
   "cell_type": "code",
   "execution_count": null,
   "id": "c0f49bab-05eb-4a92-9def-6973f28890a2",
   "metadata": {},
   "outputs": [],
   "source": []
  }
 ],
 "metadata": {
  "kernelspec": {
   "display_name": "Python [conda env:base] *",
   "language": "python",
   "name": "conda-base-py"
  },
  "language_info": {
   "codemirror_mode": {
    "name": "ipython",
    "version": 3
   },
   "file_extension": ".py",
   "mimetype": "text/x-python",
   "name": "python",
   "nbconvert_exporter": "python",
   "pygments_lexer": "ipython3",
   "version": "3.10.14"
  }
 },
 "nbformat": 4,
 "nbformat_minor": 5
}
