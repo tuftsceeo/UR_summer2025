{
 "cells": [
  {
   "cell_type": "markdown",
   "id": "a89136a7-755f-4762-8e30-e383600ae173",
   "metadata": {},
   "source": [
    "# Library Testing! "
   ]
  },
  {
   "cell_type": "markdown",
   "id": "303b14e0-5a80-4ab8-978f-94f24c6b990d",
   "metadata": {},
   "source": [
    "Start by testing interpolation against existing UR3 library"
   ]
  },
  {
   "cell_type": "markdown",
   "id": "81f307c7-4359-49ff-a34b-fc2b5d9bb6e3",
   "metadata": {},
   "source": [
    "1. Import + initialize Liam and Aengus libray "
   ]
  },
  {
   "cell_type": "code",
   "execution_count": 1,
   "id": "901d1f67-0c45-4aa5-9338-621995805971",
   "metadata": {},
   "outputs": [
    {
     "name": "stdout",
     "output_type": "stream",
     "text": [
      "done\n"
     ]
    }
   ],
   "source": [
    "from myur import MyUR3e\n",
    "\n",
    "# Create an instance of the MyUR3e class\n",
    "robot = MyUR3e()\n",
    "print(\"done\")"
   ]
  },
  {
   "cell_type": "markdown",
   "id": "8d07ee47-08eb-4621-957d-8b0d61cbdee7",
   "metadata": {},
   "source": [
    "2. Import Hannah and Leia library + create a test path"
   ]
  },
  {
   "cell_type": "code",
   "execution_count": 2,
   "id": "9dd9b2bc-cb8a-468c-9f21-7d8c2e20530a",
   "metadata": {},
   "outputs": [
    {
     "name": "stdout",
     "output_type": "stream",
     "text": [
      "done\n"
     ]
    }
   ],
   "source": [
    "import UR_lib\n",
    "import numpy as np\n",
    "\n",
    "# Test path\n",
    "coordinates_path = [[0,0,0,0,0,0],\n",
    "                    [3,4,1,30,0,0],\n",
    "                    [6,8,2,90,20,0],\n",
    "                    [6,8,2,90,20,20]]\n",
    "print(\"done\")"
   ]
  },
  {
   "cell_type": "markdown",
   "id": "af13e14a-c2ee-411c-9ccb-f9f9339b247e",
   "metadata": {},
   "source": [
    "You can check the nodes by running:"
   ]
  },
  {
   "cell_type": "code",
   "execution_count": 3,
   "id": "4c824a24-76aa-4adf-95d1-debb40e37e1f",
   "metadata": {},
   "outputs": [
    {
     "name": "stdout",
     "output_type": "stream",
     "text": [
      "/GripperNode\n",
      "/controller_manager\n",
      "/controller_stopper\n",
      "/dashboard_client\n",
      "/force_torque_sensor_broadcaster\n",
      "/forward_position_controller\n",
      "/gripper_client\n",
      "/io_and_status_controller\n",
      "/joint_state_broadcaster\n",
      "/joint_state_subscriber\n",
      "/remote_control_client\n",
      "/robot_state_publisher\n",
      "/scaled_joint_trajectory_controller\n",
      "/speed_scaling_state_broadcaster\n",
      "/ur_configuration_controller\n",
      "/ur_dashboard_client\n",
      "/urscript_interface\n",
      "/wrench_subscriber\n"
     ]
    }
   ],
   "source": [
    "!ros2 node list"
   ]
  },
  {
   "cell_type": "markdown",
   "id": "aee3862a-c5c8-46d2-b8ea-ce0fb90c51bd",
   "metadata": {},
   "source": [
    "This should be a working path that throws no errors and prints results. "
   ]
  },
  {
   "cell_type": "code",
   "execution_count": 8,
   "id": "9cbe5ed0-39f2-43fb-ab86-ef7786bbeb96",
   "metadata": {},
   "outputs": [
    {
     "name": "stdout",
     "output_type": "stream",
     "text": [
      "\n",
      "--- Original Coordinates ---\n",
      "[0, 0, 0, 0, 0, 0]\n",
      "[3, 4, 1, 30, 0, 0]\n",
      "[6, 8, 2, 90, 20, 0]\n",
      "[6, 8, 2, 90, 20, 20]\n",
      "\n",
      "--- Interpolated Coordinates ---\n",
      "Point 0: [0, 0, 0, 0, 0, 0]\n",
      "Point 1: [0.6000000000000001, 0.8, 0.2, 6.0, 0.0, 0.0]\n",
      "Point 2: [1.2000000000000002, 1.6, 0.4, 12.0, 0.0, 0.0]\n",
      "Point 3: [1.7999999999999998, 2.4, 0.6, 18.0, 0.0, 0.0]\n",
      "Point 4: [2.4000000000000004, 3.2, 0.8, 24.0, 0.0, 0.0]\n",
      "Point 5: [3.0, 4.0, 1.0, 30.0, 0.0, 0.0]\n",
      "Point 6: [3.6, 4.8, 1.2, 42.0, 4.0, 0.0]\n",
      "Point 7: [4.2, 5.6, 1.4, 54.0, 8.0, 0.0]\n",
      "Point 8: [4.8, 6.4, 1.6, 66.0, 12.0, 0.0]\n",
      "Point 9: [5.4, 7.2, 1.8, 78.0, 16.0, 0.0]\n",
      "Point 10: [6.0, 8.0, 2.0, 90.0, 20.0, 0.0]\n",
      "Point 11: [6.0, 8.0, 2.0, 90.0, 20.0, 20.0]\n",
      "Total interpolated points: 12\n"
     ]
    }
   ],
   "source": [
    "interpolated_result = UR_lib.linear_interp(coordinates_path, step_size = 1, debugging=True, aligned=False)"
   ]
  },
  {
   "cell_type": "markdown",
   "id": "2d5c4b42-6501-4de4-b027-9da4dc3dea00",
   "metadata": {},
   "source": [
    "This path should throw no errors but no interpolation should occur (Original = Interpolated)"
   ]
  },
  {
   "cell_type": "code",
   "execution_count": 10,
   "id": "10616d83-46fd-4986-a1e9-3e6ce11234a7",
   "metadata": {},
   "outputs": [
    {
     "name": "stdout",
     "output_type": "stream",
     "text": [
      "[0.0, 0.0]\n",
      "[0.0, 0.0]\n",
      "\n",
      "--- Original Coordinates ---\n",
      "[0, 0, 0, 0, 0, 180.0]\n",
      "[0, 0, 0, 0, 0, 40]\n",
      "[0, 0, 0, 0, 0, 0]\n",
      "\n",
      "--- Interpolated Coordinates ---\n",
      "Point 0: [0, 0, 0, 0, 0, 180.0]\n",
      "Point 1: [0.0, 0.0, 0.0, 0.0, 0.0, 180.0]\n",
      "Point 2: [0.0, 0.0, 0.0, 0.0, 0.0, 0.0]\n",
      "Total interpolated points: 3\n"
     ]
    },
    {
     "data": {
      "text/plain": [
       "[[0, 0, 0, 0, 0, 180.0],\n",
       " [0.0, 0.0, 0.0, 0.0, 0.0, 180.0],\n",
       " [0.0, 0.0, 0.0, 0.0, 0.0, 0.0]]"
      ]
     },
     "execution_count": 10,
     "metadata": {},
     "output_type": "execute_result"
    }
   ],
   "source": [
    "# nothing should happen here\n",
    "zeros_path = [[0,0,0,0,0,0],\n",
    "            [0,0,0,0,0,40],\n",
    "            [0,0,0,0,0,0]]\n",
    "UR_lib.linear_interp(zeros_path, step_size=1, debugging=True, aligned=True)"
   ]
  },
  {
   "cell_type": "markdown",
   "id": "68bdb6ce-de92-4b4d-8b3e-15fdd2cf6ca3",
   "metadata": {},
   "source": [
    "All of the following should throw errors for invalid input. "
   ]
  },
  {
   "cell_type": "code",
   "execution_count": 11,
   "id": "1c09691b-2ec0-4251-8fa5-2a1577d71240",
   "metadata": {},
   "outputs": [
    {
     "name": "stdout",
     "output_type": "stream",
     "text": [
      "Error: coordinate list invalid. Length is 0. Ensure at least 2 points to interpolate\n",
      "Error: step size must be greater than 0.\n",
      "Error: coordinate list invalid. Length is 1. Ensure at least 2 points to interpolate\n"
     ]
    },
    {
     "data": {
      "text/plain": [
       "[[0, 0, 0, 0, 0, 0]]"
      ]
     },
     "execution_count": 11,
     "metadata": {},
     "output_type": "execute_result"
    }
   ],
   "source": [
    "# Error Testing\n",
    "no_path = []\n",
    "path_too_short = [[0,0,0,0,0,0]]\n",
    "\n",
    "UR_lib.linear_interp(no_path, step_size=1, debugging=True)\n",
    "UR_lib.linear_interp(zeros_path, step_size=0, debugging=True)\n",
    "UR_lib.linear_interp(path_too_short, step_size=1, debugging=True)"
   ]
  },
  {
   "cell_type": "markdown",
   "id": "11b13de3-e14c-45f7-b8b2-a68ad5ea8013",
   "metadata": {},
   "source": [
    "## Relative Trajectory testing: "
   ]
  },
  {
   "cell_type": "code",
   "execution_count": null,
   "id": "3e21277c-f9ef-43cc-81d9-ab224364266b",
   "metadata": {},
   "outputs": [],
   "source": [
    "# Testing relative trajectory\n",
    "relative_trajectory = np.array([\n",
    "    [0.0, 0.0, -0.01, 0.0, 0.0, 0.0],\n",
    "    [0.1, 0.0, 0.0, 0.0, 0.0, 90.0],\n",
    "])\n",
    "# relative_trajectory = linear_interp(relative_trajectory, debugging=True)\n",
    "# Move the end effector through the trajectory\n",
    "start = [0.2, 0.1, 0.4, 0.0, 0.0, 0.0]\n",
    "global_trajectory = UR_lib.relative_to_global(relative_trajectory, start)\n",
    "\n",
    "print(f\"global: {global_trajectory}\")"
   ]
  },
  {
   "cell_type": "markdown",
   "id": "7a0450f1-722c-45f5-9438-e09c62bb5ebb",
   "metadata": {},
   "source": [
    "## Testing with the arm: "
   ]
  },
  {
   "cell_type": "code",
   "execution_count": 4,
   "id": "a45485a0-c10f-4638-8cca-5ecd25aa3063",
   "metadata": {},
   "outputs": [
    {
     "name": "stderr",
     "output_type": "stream",
     "text": [
      "[INFO] [1749742385.266603719] [remote_control_client]: Goal #1: Executing\n",
      "[INFO] [1749742390.375717991] [remote_control_client]: Goal #1: Completed\n",
      "[INFO] [1749742390.391626763] [remote_control_client]: Goal #2: Executing\n"
     ]
    },
    {
     "name": "stdout",
     "output_type": "stream",
     "text": [
      "done\n"
     ]
    },
    {
     "name": "stderr",
     "output_type": "stream",
     "text": [
      "[INFO] [1749742418.447684509] [remote_control_client]: Goal #2: Completed\n"
     ]
    }
   ],
   "source": [
    "# Move in a 10cm square using global relative commands\n",
    "relative_trajectory = [\n",
    "    [0.0, 0.0, -0.01, 0.0, 0.0, 0.0],\n",
    "    [0.1, 0.0, 0.0, 0.0, 0.0, 0.0],\n",
    "    [0.0, 0.0, 0.0, 0.0, 0.0, 90.0],\n",
    "    [0.0, 0.1, 0.0, 0.0, 0.0, 0.0],\n",
    "    [0.0, 0.0, 0.0, 0.0, 0.0, -90.0],\n",
    "    [-0.1, 0.0, 0.0, 0.0, 0.0, 0.0],\n",
    "    [0, 0.0, 0.0, 0.0, 0.0, 90.0],\n",
    "    [0.0, -0.1, 0.0, 0.0, 0.0, 0.0],\n",
    "    [0.0, 0.0, 0.0, 0.0, 0.0, -90.0]\n",
    "]\n",
    "start_pos = [0.2, 0.1, 0.4, 0.0, 0.0, 0.0]\n",
    "global_trajectory = UR_lib.relative_to_global(relative_trajectory, start_pos)\n",
    "global_trajectory = UR_lib.linear_interp(global_trajectory, debugging=False)\n",
    "# Move the end effector through the trajectory\n",
    "robot.move_global(start_pos)\n",
    "robot.move_global(global_trajectory, (len(global_trajectory)/2))\n",
    "print(\"done\")"
   ]
  },
  {
   "cell_type": "code",
   "execution_count": null,
   "id": "c6c36e7d-7e60-4fe5-8ebc-cc6af04c822e",
   "metadata": {},
   "outputs": [],
   "source": []
  }
 ],
 "metadata": {
  "kernelspec": {
   "display_name": "Python [conda env:base] *",
   "language": "python",
   "name": "conda-base-py"
  },
  "language_info": {
   "codemirror_mode": {
    "name": "ipython",
    "version": 3
   },
   "file_extension": ".py",
   "mimetype": "text/x-python",
   "name": "python",
   "nbconvert_exporter": "python",
   "pygments_lexer": "ipython3",
   "version": "3.10.14"
  }
 },
 "nbformat": 4,
 "nbformat_minor": 5
}
